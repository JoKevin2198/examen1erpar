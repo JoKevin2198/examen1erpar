{
  "nbformat": 4,
  "nbformat_minor": 0,
  "metadata": {
    "colab": {
      "provenance": [],
      "authorship_tag": "ABX9TyP65HtlhanLBnO8YjuxjCZI",
      "include_colab_link": true
    },
    "kernelspec": {
      "name": "python3",
      "display_name": "Python 3"
    },
    "language_info": {
      "name": "python"
    }
  },
  "cells": [
    {
      "cell_type": "markdown",
      "metadata": {
        "id": "view-in-github",
        "colab_type": "text"
      },
      "source": [
        "<a href=\"https://colab.research.google.com/github/JoKevin2198/examen1erpar/blob/main/IA_Examen1Parcial_KevinHidalgo.ipynb\" target=\"_parent\"><img src=\"https://colab.research.google.com/assets/colab-badge.svg\" alt=\"Open In Colab\"/></a>"
      ]
    },
    {
      "cell_type": "code",
      "execution_count": 36,
      "metadata": {
        "colab": {
          "base_uri": "https://localhost:8080/",
          "height": 472
        },
        "id": "NnHml9bLzXvm",
        "outputId": "c9507647-aa76-493e-fbb2-20145ad502ee"
      },
      "outputs": [
        {
          "output_type": "display_data",
          "data": {
            "text/plain": [
              "<Figure size 640x480 with 1 Axes>"
            ],
            "image/png": "[encoded data removed]"
          },
          "metadata": {}
        },
        {
          "output_type": "stream",
          "name": "stdout",
          "text": [
            "[[6.53272618]]\n"
          ]
        }
      ],
      "source": [
        "import matplotlib.pyplot as plt\n",
        "import numpy as np\n",
        "import pandas as pd\n",
        "from sklearn.linear_model import LinearRegression\n",
        "\n",
        "# Download and prepare the data\n",
        "data_root = \"https://raw.githubusercontent.com/JoKevin2198/examen1erpar/main/\"\n",
        "lifesat = pd.read_csv(data_root + \"Examen_KevinHidalgo.csv\")\n",
        "\n",
        "X = lifesat[[\"GDP\"]].values\n",
        "y = lifesat[[\"Cantril ladder score\"]].values\n",
        "\n",
        "# Visualize the data\n",
        "lifesat.plot(kind='scatter', grid=True,\n",
        "             x=\"GDP\", y=\"Cantril ladder score\")       #Scatter genera solo puntos en la grafica y  grid genera lineas de fondo\n",
        "\n",
        "plt.axis([1_5, 60_500, 2, 8])   # Son los valores maximos y minimos de los ejes x E y\n",
        "plt.show()\n",
        "\n",
        "# Select a linear model\n",
        "model = LinearRegression()\n",
        "\n",
        "# Train the model\n",
        "model.fit(X, y)\n",
        "\n",
        "# Make a prediction for Cyprus\n",
        "X_new = [[37_655.2]]  # Cyprus' GDP per capita in 2020\n",
        "print(model.predict(X_new)) # output: [[6.30165767]]"
      ]
    },
    {
      "cell_type": "code",
      "source": [
        "print(X)"
      ],
      "metadata": {
        "colab": {
          "base_uri": "https://localhost:8080/"
        },
        "id": "Wl88mTetFkAn",
        "outputId": "4dcce9cd-3f63-4720-fd2f-500102218066"
      },
      "execution_count": 34,
      "outputs": [
        {
          "output_type": "stream",
          "name": "stdout",
          "text": [
            "[[ 2033.8044]\n",
            " [13317.093 ]\n",
            " [11630.68  ]\n",
            " [56178.773 ]\n",
            " [22747.242 ]\n",
            " [12715.109 ]\n",
            " [49029.105 ]\n",
            " [55258.37  ]\n",
            " [14209.593 ]\n",
            " [11561.748 ]\n",
            " [ 4440.856 ]\n",
            " [11366.336 ]\n",
            " [18974.7   ]\n",
            " [51126.668 ]\n",
            " [ 8615.689 ]\n",
            " [ 3160.7808]\n",
            " [35097.703 ]\n",
            " [11348.442 ]\n",
            " [ 8655.531 ]\n",
            " [16222.407 ]\n",
            " [14668.256 ]\n",
            " [48049.582 ]\n",
            " [22206.09  ]\n",
            " [ 2117.814 ]\n",
            " [  761.5241]\n",
            " [ 4159.3384]\n",
            " [ 3711.8503]\n",
            " [48962.48  ]\n",
            " [45284.004 ]\n",
            " [14743.698 ]\n",
            " [  933.1099]\n",
            " [25028.91  ]\n",
            " [15133.996 ]\n",
            " [14314.855 ]\n",
            " [ 3928.428 ]\n",
            " [20672.615 ]\n",
            " [28192.328 ]\n",
            " [14253.409 ]\n",
            " [39932.992 ]]\n"
          ]
        }
      ]
    },
    {
      "cell_type": "code",
      "source": [
        "print(y)"
      ],
      "metadata": {
        "colab": {
          "base_uri": "https://localhost:8080/"
        },
        "id": "30L-PDotFl9P",
        "outputId": "4152c051-18cb-4199-df4e-a5103e6cb85d"
      },
      "execution_count": 35,
      "outputs": [
        {
          "output_type": "stream",
          "name": "stdout",
          "text": [
            "[[3.2033]\n",
            " [4.7186]\n",
            " [5.2113]\n",
            " [7.6001]\n",
            " [6.0863]\n",
            " [4.5594]\n",
            " [7.228 ]\n",
            " [7.246 ]\n",
            " [5.2077]\n",
            " [6.0276]\n",
            " [4.4558]\n",
            " [4.1655]\n",
            " [5.3225]\n",
            " [6.923 ]\n",
            " [6.2531]\n",
            " [4.8832]\n",
            " [5.8935]\n",
            " [5.0821]\n",
            " [5.7793]\n",
            " [3.4884]\n",
            " [6.2998]\n",
            " [7.8042]\n",
            " [5.011 ]\n",
            " [4.5868]\n",
            " [3.7753]\n",
            " [4.6998]\n",
            " [5.0437]\n",
            " [7.2781]\n",
            " [6.5921]\n",
            " [4.7992]\n",
            " [3.083 ]\n",
            " [6.444 ]\n",
            " [5.1909]\n",
            " [6.1248]\n",
            " [4.8115]\n",
            " [7.1674]\n",
            " [5.4318]\n",
            " [4.5191]\n",
            " [6.8521]]\n"
          ]
        }
      ]
    }
  ]
}